{
 "cells": [
  {
   "cell_type": "code",
   "execution_count": 1,
   "metadata": {},
   "outputs": [],
   "source": [
    "import torch;"
   ]
  },
  {
   "cell_type": "code",
   "execution_count": 4,
   "metadata": {},
   "outputs": [
    {
     "name": "stdout",
     "output_type": "stream",
     "text": [
      "x_grad = tensor([3.])\n",
      "x =  tensor([1.7000], requires_grad=True)\n",
      "x_grad = tensor([3.])\n",
      "x =  tensor([1.4000], requires_grad=True)\n",
      "z = tensor([5.1000], grad_fn=<MulBackward0>)\n"
     ]
    }
   ],
   "source": [
    "# create two Tensors\n",
    "x = torch.tensor([2], requires_grad=True, dtype=torch.float)\n",
    "y = torch.tensor([3], requires_grad=True, dtype=torch.float)\n",
    "\n",
    "# loop twice\n",
    "for k in range(2):\n",
    "    z = (x*y)\n",
    "    z.backward() # fills x and y gradients, so z must have a mutable reference of some kind to x\n",
    "    print('x_grad =', x.grad)\n",
    "    x.data = x.data-0.1*x.grad # here we are modifying x in-place, while z holds the mutable reference\n",
    "    x.grad.data.zero_() # zeroing the gradients of x\n",
    "    print('x = ', x)\n",
    "\n",
    "print('z =', z)"
   ]
  }
 ],
 "metadata": {
  "kernelspec": {
   "display_name": "Python 3.9.7 64-bit ('py39dev': conda)",
   "language": "python",
   "name": "python3"
  },
  "language_info": {
   "codemirror_mode": {
    "name": "ipython",
    "version": 3
   },
   "file_extension": ".py",
   "mimetype": "text/x-python",
   "name": "python",
   "nbconvert_exporter": "python",
   "pygments_lexer": "ipython3",
   "version": "3.9.7"
  },
  "orig_nbformat": 4,
  "vscode": {
   "interpreter": {
    "hash": "643d8850f45643577c70a479862d77c4402de531777c806406a288852538f786"
   }
  }
 },
 "nbformat": 4,
 "nbformat_minor": 2
}
