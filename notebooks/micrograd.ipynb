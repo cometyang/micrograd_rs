{
 "cells": [
  {
   "cell_type": "code",
   "execution_count": 3,
   "metadata": {},
   "outputs": [],
   "source": [
    "import math\n",
    "import numpy as np\n",
    "import matplotlib.pyplot as plt\n",
    "%matplotlib inline"
   ]
  },
  {
   "cell_type": "code",
   "execution_count": 4,
   "metadata": {},
   "outputs": [],
   "source": [
    "def f(x):\n",
    "    return 3*x**2-4*x+5"
   ]
  },
  {
   "cell_type": "code",
   "execution_count": 5,
   "metadata": {},
   "outputs": [
    {
     "data": {
      "text/plain": [
       "20.0"
      ]
     },
     "execution_count": 5,
     "metadata": {},
     "output_type": "execute_result"
    }
   ],
   "source": [
    "f(3.0)"
   ]
  },
  {
   "cell_type": "code",
   "execution_count": 6,
   "metadata": {},
   "outputs": [
    {
     "data": {
      "text/plain": [
       "[<matplotlib.lines.Line2D at 0x10d58ef70>]"
      ]
     },
     "execution_count": 6,
     "metadata": {},
     "output_type": "execute_result"
    },
    {
     "data": {
      "image/png": "[encoded data removed]",
      "text/plain": [
       "<Figure size 432x288 with 1 Axes>"
      ]
     },
     "metadata": {
      "needs_background": "light"
     },
     "output_type": "display_data"
    }
   ],
   "source": [
    "xs = np.arange(-5,5,0.25)\n",
    "ys=f(xs)\n",
    "plt.plot(xs, ys)"
   ]
  },
  {
   "cell_type": "code",
   "execution_count": 7,
   "metadata": {},
   "outputs": [
    {
     "data": {
      "text/plain": [
       "-22.00000039920269"
      ]
     },
     "execution_count": 7,
     "metadata": {},
     "output_type": "execute_result"
    }
   ],
   "source": [
    "h=0.00000001\n",
    "x =-3.0\n",
    "(f(x+h)-f(x))/h"
   ]
  },
  {
   "cell_type": "code",
   "execution_count": 8,
   "metadata": {},
   "outputs": [
    {
     "name": "stdout",
     "output_type": "stream",
     "text": [
      "4.0\n"
     ]
    }
   ],
   "source": [
    "a = 2.0\n",
    "b = -3.0\n",
    "c = 10.0\n",
    "d = a*b+c\n",
    "print(d)"
   ]
  },
  {
   "cell_type": "code",
   "execution_count": 9,
   "metadata": {},
   "outputs": [
    {
     "name": "stdout",
     "output_type": "stream",
     "text": [
      "d1 4.0\n",
      "d2 3.999699999999999\n",
      "slope -3.000000000010772\n"
     ]
    }
   ],
   "source": [
    "h =0.0001\n",
    "\n",
    "#inputs\n",
    "a = 2.0\n",
    "b=-3.0\n",
    "c=10.0\n",
    "\n",
    "d1 = a*b+c\n",
    "a+=h\n",
    "d2 = a*b+c\n",
    "print('d1', d1)\n",
    "print('d2', d2)\n",
    "print('slope', (d2-d1)/h)"
   ]
  },
  {
   "cell_type": "code",
   "execution_count": 20,
   "metadata": {},
   "outputs": [
    {
     "data": {
      "text/plain": [
       "Value(data=-6.0)"
      ]
     },
     "execution_count": 20,
     "metadata": {},
     "output_type": "execute_result"
    }
   ],
   "source": [
    "class Value:\n",
    "    def __init__(self, data, _children=(), _op='', label = ''):\n",
    "        self.data = data\n",
    "        self._prev = set(_children)\n",
    "        self._op = _op\n",
    "        self.label = label\n",
    "\n",
    "    def __repr__(self):\n",
    "        return f\"Value(data={self.data})\"\n",
    "\n",
    "    def __add__(self, other):\n",
    "        out = Value(self.data + other.data,(self, other),'+')\n",
    "        return out\n",
    "\n",
    "    def __sub__(self, other):\n",
    "        out = Value(self.data - other.data,(self, other),'-')\n",
    "        return out\n",
    "\n",
    "    def __mul__(self, other):\n",
    "        out = Value(self.data*other.data,(self, other),'*')\n",
    "        return out\n",
    "\n",
    "a = Value(2.0, label='a')\n",
    "b = Value(-3.0, label='b')\n",
    "c= Value(10.0, label ='c')\n",
    "e = a*b; e.label='e'\n",
    "d=e+c; d.label ='d'\n",
    "f= Value(-2.0, label='f')\n",
    "L = d*f; L.label='L'\n",
    "d._prev\n",
    "a+b\n",
    "a*b"
   ]
  },
  {
   "cell_type": "code",
   "execution_count": 11,
   "metadata": {},
   "outputs": [
    {
     "data": {
      "text/plain": [
       "Value(data=-8.0)"
      ]
     },
     "execution_count": 11,
     "metadata": {},
     "output_type": "execute_result"
    }
   ],
   "source": [
    "L"
   ]
  },
  {
   "cell_type": "code",
   "execution_count": null,
   "metadata": {},
   "outputs": [],
   "source": []
  },
  {
   "cell_type": "code",
   "execution_count": 12,
   "metadata": {},
   "outputs": [
    {
     "data": {
      "text/plain": [
       "'+'"
      ]
     },
     "execution_count": 12,
     "metadata": {},
     "output_type": "execute_result"
    }
   ],
   "source": [
    "d._op"
   ]
  },
  {
   "cell_type": "code",
   "execution_count": 13,
   "metadata": {},
   "outputs": [
    {
     "name": "stdout",
     "output_type": "stream",
     "text": [
      "Requirement already satisfied: graphviz in /Users/yangyang/Development/miniforge3/envs/py39dev/lib/python3.9/site-packages (0.20.1)\n"
     ]
    }
   ],
   "source": [
    "!pip install graphviz\n"
   ]
  },
  {
   "cell_type": "code",
   "execution_count": 14,
   "metadata": {},
   "outputs": [],
   "source": [
    "from graphviz import Digraph"
   ]
  },
  {
   "cell_type": "code",
   "execution_count": 15,
   "metadata": {},
   "outputs": [],
   "source": [
    "\n",
    "\n",
    "\n",
    "def trace(root):\n",
    "    # builds a set of all nodes and edges in a graph\n",
    "    nodes, edges = set(), set()\n",
    "    def build(v):\n",
    "        if v not in nodes:\n",
    "            nodes.add(v)\n",
    "            for child in v._prev:\n",
    "                edges.add((child,v))\n",
    "                build(child)\n",
    "\n",
    "    build(root)\n",
    "    return nodes, edges"
   ]
  },
  {
   "cell_type": "code",
   "execution_count": 16,
   "metadata": {},
   "outputs": [],
   "source": [
    "def draw_dot(root):\n",
    "    dot = Digraph(format='svg', graph_attr={\n",
    "        'rankdir':'LR' #LR = left to right\n",
    "     })\n",
    "\n",
    "    nodes, edges = trace(root)\n",
    "    for n in nodes:\n",
    "        uid = str(id(n))\n",
    "        # for any value in the graph, crate a rectagular ['record'] node for it\n",
    "        dot.node(name = uid, label = \"{ %s| data %.4f}\" % (n.label,n.data ), shape='record')\n",
    "        if n._op:\n",
    "            # if this value is a result of some operation, create an op node for it\n",
    "            dot.node(name = uid+n._op, label=n._op)\n",
    "            # and connect this node to it\n",
    "            dot.edge(uid+n._op, uid)\n",
    "        \n",
    "    for n1, n2 in edges:\n",
    "        # connect n1 to the op node of n2\n",
    "        dot.edge(str(id(n1)), str(id(n2))+n2._op)\n",
    "\n",
    "    return dot\n"
   ]
  },
  {
   "cell_type": "code",
   "execution_count": 17,
   "metadata": {},
   "outputs": [
    {
     "data": {
      "image/svg+xml": "<?xml version=\"1.0\" encoding=\"UTF-8\" standalone=\"no\"?>\n<!DOCTYPE svg PUBLIC \"-//W3C//DTD SVG 1.1//EN\"\n \"http://www.w3.org/Graphics/SVG/1.1/DTD/svg11.dtd\">\n<!-- Generated by graphviz version 6.0.1 (20220911.1526)\n -->\n<!-- Pages: 1 -->\n<svg width=\"820pt\" height=\"128pt\"\n viewBox=\"0.00 0.00 820.00 128.00\" xmlns=\"http://www.w3.org/2000/svg\" xmlns:xlink=\"http://www.w3.org/1999/xlink\">\n<g id=\"graph0\" class=\"graph\" transform=\"scale(1 1) rotate(0) translate(4 124)\">\n<polygon fill=\"white\" stroke=\"none\" points=\"-4,4 -4,-124 816,-124 816,4 -4,4\"/>\n<!-- 4463266304 -->\n<g id=\"node1\" class=\"node\">\n<title>4463266304</title>\n<polygon fill=\"none\" stroke=\"black\" points=\"471.5,-27.5 471.5,-63.5 574.5,-63.5 574.5,-27.5 471.5,-27.5\"/>\n<text text-anchor=\"middle\" x=\"483\" y=\"-41.8\" font-family=\"Times,serif\" font-size=\"14.00\">d</text>\n<polyline fill=\"none\" stroke=\"black\" points=\"494.5,-27.5 494.5,-63.5\"/>\n<text text-anchor=\"middle\" x=\"534.5\" y=\"-41.8\" font-family=\"Times,serif\" font-size=\"14.00\">data 4.0000</text>\n</g>\n<!-- 4463264480* -->\n<g id=\"node9\" class=\"node\">\n<title>4463264480*</title>\n<ellipse fill=\"none\" stroke=\"black\" cx=\"639\" cy=\"-72.5\" rx=\"27\" ry=\"18\"/>\n<text text-anchor=\"middle\" x=\"639\" y=\"-68.8\" font-family=\"Times,serif\" font-size=\"14.00\">*</text>\n</g>\n<!-- 4463266304&#45;&gt;4463264480* -->\n<g id=\"edge5\" class=\"edge\">\n<title>4463266304&#45;&gt;4463264480*</title>\n<path fill=\"none\" stroke=\"black\" d=\"M574.67,-57.5C584.43,-59.81 594.45,-62.18 603.55,-64.34\"/>\n<polygon fill=\"black\" stroke=\"black\" points=\"602.83,-67.77 613.37,-66.67 604.45,-60.96 602.83,-67.77\"/>\n</g>\n<!-- 4463266304+ -->\n<g id=\"node2\" class=\"node\">\n<title>4463266304+</title>\n<ellipse fill=\"none\" stroke=\"black\" cx=\"407\" cy=\"-45.5\" rx=\"27\" ry=\"18\"/>\n<text text-anchor=\"middle\" x=\"407\" y=\"-41.8\" font-family=\"Times,serif\" font-size=\"14.00\">+</text>\n</g>\n<!-- 4463266304+&#45;&gt;4463266304 -->\n<g id=\"edge1\" class=\"edge\">\n<title>4463266304+&#45;&gt;4463266304</title>\n<path fill=\"none\" stroke=\"black\" d=\"M434.15,-45.5C442.26,-45.5 451.57,-45.5 461.02,-45.5\"/>\n<polygon fill=\"black\" stroke=\"black\" points=\"461.28,-49 471.28,-45.5 461.28,-42 461.28,-49\"/>\n</g>\n<!-- 4519672944 -->\n<g id=\"node3\" class=\"node\">\n<title>4519672944</title>\n<polygon fill=\"none\" stroke=\"black\" points=\"0,-83.5 0,-119.5 108,-119.5 108,-83.5 0,-83.5\"/>\n<text text-anchor=\"middle\" x=\"11.5\" y=\"-97.8\" font-family=\"Times,serif\" font-size=\"14.00\">b</text>\n<polyline fill=\"none\" stroke=\"black\" points=\"23,-83.5 23,-119.5\"/>\n<text text-anchor=\"middle\" x=\"65.5\" y=\"-97.8\" font-family=\"Times,serif\" font-size=\"14.00\">data &#45;3.0000</text>\n</g>\n<!-- 4519671984* -->\n<g id=\"node5\" class=\"node\">\n<title>4519671984*</title>\n<ellipse fill=\"none\" stroke=\"black\" cx=\"171\" cy=\"-73.5\" rx=\"27\" ry=\"18\"/>\n<text text-anchor=\"middle\" x=\"171\" y=\"-69.8\" font-family=\"Times,serif\" font-size=\"14.00\">*</text>\n</g>\n<!-- 4519672944&#45;&gt;4519671984* -->\n<g id=\"edge9\" class=\"edge\">\n<title>4519672944&#45;&gt;4519671984*</title>\n<path fill=\"none\" stroke=\"black\" d=\"M108.12,-88.57C117.51,-86.28 127.06,-83.95 135.76,-81.84\"/>\n<polygon fill=\"black\" stroke=\"black\" points=\"136.62,-85.23 145.51,-79.46 134.97,-78.43 136.62,-85.23\"/>\n</g>\n<!-- 4519671984 -->\n<g id=\"node4\" class=\"node\">\n<title>4519671984</title>\n<polygon fill=\"none\" stroke=\"black\" points=\"235,-55.5 235,-91.5 343,-91.5 343,-55.5 235,-55.5\"/>\n<text text-anchor=\"middle\" x=\"246.5\" y=\"-69.8\" font-family=\"Times,serif\" font-size=\"14.00\">e</text>\n<polyline fill=\"none\" stroke=\"black\" points=\"258,-55.5 258,-91.5\"/>\n<text text-anchor=\"middle\" x=\"300.5\" y=\"-69.8\" font-family=\"Times,serif\" font-size=\"14.00\">data &#45;6.0000</text>\n</g>\n<!-- 4519671984&#45;&gt;4463266304+ -->\n<g id=\"edge8\" class=\"edge\">\n<title>4519671984&#45;&gt;4463266304+</title>\n<path fill=\"none\" stroke=\"black\" d=\"M343.25,-60.65C352.84,-58.33 362.6,-55.98 371.48,-53.83\"/>\n<polygon fill=\"black\" stroke=\"black\" points=\"372.54,-57.18 381.43,-51.43 370.89,-50.37 372.54,-57.18\"/>\n</g>\n<!-- 4519671984*&#45;&gt;4519671984 -->\n<g id=\"edge2\" class=\"edge\">\n<title>4519671984*&#45;&gt;4519671984</title>\n<path fill=\"none\" stroke=\"black\" d=\"M198.03,-73.5C206.08,-73.5 215.32,-73.5 224.74,-73.5\"/>\n<polygon fill=\"black\" stroke=\"black\" points=\"224.99,-77 234.99,-73.5 224.99,-70 224.99,-77\"/>\n</g>\n<!-- 4463265968 -->\n<g id=\"node6\" class=\"node\">\n<title>4463265968</title>\n<polygon fill=\"none\" stroke=\"black\" points=\"470,-82.5 470,-118.5 576,-118.5 576,-82.5 470,-82.5\"/>\n<text text-anchor=\"middle\" x=\"480.5\" y=\"-96.8\" font-family=\"Times,serif\" font-size=\"14.00\">f</text>\n<polyline fill=\"none\" stroke=\"black\" points=\"491,-82.5 491,-118.5\"/>\n<text text-anchor=\"middle\" x=\"533.5\" y=\"-96.8\" font-family=\"Times,serif\" font-size=\"14.00\">data &#45;2.0000</text>\n</g>\n<!-- 4463265968&#45;&gt;4463264480* -->\n<g id=\"edge7\" class=\"edge\">\n<title>4463265968&#45;&gt;4463264480*</title>\n<path fill=\"none\" stroke=\"black\" d=\"M576.33,-87.65C585.48,-85.4 594.8,-83.11 603.33,-81.02\"/>\n<polygon fill=\"black\" stroke=\"black\" points=\"604.39,-84.36 613.27,-78.57 602.72,-77.56 604.39,-84.36\"/>\n</g>\n<!-- 4519158496 -->\n<g id=\"node7\" class=\"node\">\n<title>4519158496</title>\n<polygon fill=\"none\" stroke=\"black\" points=\"2.5,-28.5 2.5,-64.5 105.5,-64.5 105.5,-28.5 2.5,-28.5\"/>\n<text text-anchor=\"middle\" x=\"14\" y=\"-42.8\" font-family=\"Times,serif\" font-size=\"14.00\">a</text>\n<polyline fill=\"none\" stroke=\"black\" points=\"25.5,-28.5 25.5,-64.5\"/>\n<text text-anchor=\"middle\" x=\"65.5\" y=\"-42.8\" font-family=\"Times,serif\" font-size=\"14.00\">data 2.0000</text>\n</g>\n<!-- 4519158496&#45;&gt;4519671984* -->\n<g id=\"edge4\" class=\"edge\">\n<title>4519158496&#45;&gt;4519671984*</title>\n<path fill=\"none\" stroke=\"black\" d=\"M105.78,-58.42C115.74,-60.76 125.98,-63.17 135.28,-65.35\"/>\n<polygon fill=\"black\" stroke=\"black\" points=\"134.77,-68.82 145.3,-67.7 136.37,-62.01 134.77,-68.82\"/>\n</g>\n<!-- 4463264480 -->\n<g id=\"node8\" class=\"node\">\n<title>4463264480</title>\n<polygon fill=\"none\" stroke=\"black\" points=\"702,-54.5 702,-90.5 812,-90.5 812,-54.5 702,-54.5\"/>\n<text text-anchor=\"middle\" x=\"714.5\" y=\"-68.8\" font-family=\"Times,serif\" font-size=\"14.00\">L</text>\n<polyline fill=\"none\" stroke=\"black\" points=\"727,-54.5 727,-90.5\"/>\n<text text-anchor=\"middle\" x=\"769.5\" y=\"-68.8\" font-family=\"Times,serif\" font-size=\"14.00\">data &#45;8.0000</text>\n</g>\n<!-- 4463264480*&#45;&gt;4463264480 -->\n<g id=\"edge3\" class=\"edge\">\n<title>4463264480*&#45;&gt;4463264480</title>\n<path fill=\"none\" stroke=\"black\" d=\"M666.03,-72.5C673.7,-72.5 682.45,-72.5 691.42,-72.5\"/>\n<polygon fill=\"black\" stroke=\"black\" points=\"691.58,-76 701.58,-72.5 691.58,-69 691.58,-76\"/>\n</g>\n<!-- 4519672800 -->\n<g id=\"node10\" class=\"node\">\n<title>4519672800</title>\n<polygon fill=\"none\" stroke=\"black\" points=\"234,-0.5 234,-36.5 344,-36.5 344,-0.5 234,-0.5\"/>\n<text text-anchor=\"middle\" x=\"245.5\" y=\"-14.8\" font-family=\"Times,serif\" font-size=\"14.00\">c</text>\n<polyline fill=\"none\" stroke=\"black\" points=\"257,-0.5 257,-36.5\"/>\n<text text-anchor=\"middle\" x=\"300.5\" y=\"-14.8\" font-family=\"Times,serif\" font-size=\"14.00\">data 10.0000</text>\n</g>\n<!-- 4519672800&#45;&gt;4463266304+ -->\n<g id=\"edge6\" class=\"edge\">\n<title>4519672800&#45;&gt;4463266304+</title>\n<path fill=\"none\" stroke=\"black\" d=\"M344.26,-31.13C353.49,-33.28 362.84,-35.45 371.37,-37.44\"/>\n<polygon fill=\"black\" stroke=\"black\" points=\"370.79,-40.9 381.32,-39.76 372.38,-34.08 370.79,-40.9\"/>\n</g>\n</g>\n</svg>\n",
      "text/plain": [
       "<graphviz.graphs.Digraph at 0x10d6af100>"
      ]
     },
     "execution_count": 17,
     "metadata": {},
     "output_type": "execute_result"
    }
   ],
   "source": [
    "draw_dot(L)"
   ]
  },
  {
   "cell_type": "code",
   "execution_count": 18,
   "metadata": {},
   "outputs": [
    {
     "name": "stdout",
     "output_type": "stream",
     "text": [
      "digraph {\n",
      "\tgraph [rankdir=LR]\n",
      "\t4463266304 [label=\"{ d| data 4.0000}\" shape=record]\n",
      "\t\"4463266304+\" [label=\"+\"]\n",
      "\t\"4463266304+\" -> 4463266304\n",
      "\t4519672944 [label=\"{ b| data -3.0000}\" shape=record]\n",
      "\t4519671984 [label=\"{ e| data -6.0000}\" shape=record]\n",
      "\t\"4519671984*\" [label=\"*\"]\n",
      "\t\"4519671984*\" -> 4519671984\n",
      "\t4463265968 [label=\"{ f| data -2.0000}\" shape=record]\n",
      "\t4519158496 [label=\"{ a| data 2.0000}\" shape=record]\n",
      "\t4463264480 [label=\"{ L| data -8.0000}\" shape=record]\n",
      "\t\"4463264480*\" [label=\"*\"]\n",
      "\t\"4463264480*\" -> 4463264480\n",
      "\t4519672800 [label=\"{ c| data 10.0000}\" shape=record]\n",
      "\t4519158496 -> \"4519671984*\"\n",
      "\t4463266304 -> \"4463264480*\"\n",
      "\t4519672800 -> \"4463266304+\"\n",
      "\t4463265968 -> \"4463264480*\"\n",
      "\t4519671984 -> \"4463266304+\"\n",
      "\t4519672944 -> \"4519671984*\"\n",
      "}\n",
      "\n"
     ]
    }
   ],
   "source": [
    "print(draw_dot(L))"
   ]
  },
  {
   "cell_type": "code",
   "execution_count": 23,
   "metadata": {},
   "outputs": [
    {
     "name": "stdout",
     "output_type": "stream",
     "text": [
      "6.000000000021544\n"
     ]
    }
   ],
   "source": [
    "def lol():\n",
    "    h = 0.0001;\n",
    "    a = Value(2.0, label='a')\n",
    "    b = Value(-3.0, label='b')\n",
    "    c= Value(10.0, label ='c')\n",
    "    e = a*b; e.label='e'\n",
    "    d=e+c; d.label ='d'\n",
    "    f= Value(-2.0, label='f')\n",
    "    L = d*f; L.label='L'\n",
    "    L1 = L.data\n",
    "\n",
    "    a = Value(2.0+h, label='a')\n",
    "    b = Value(-3.0, label='b')\n",
    "    c= Value(10.0, label ='c')\n",
    "    e = a*b; e.label='e'\n",
    "    d=e+c; d.label ='d'\n",
    "    f= Value(-2.0, label='f')\n",
    "    L = d*f; L.label='L'\n",
    "    L2 = L.data\n",
    "\n",
    "    print((L2-L1)/h)\n",
    "\n",
    "lol()"
   ]
  }
 ],
 "metadata": {
  "kernelspec": {
   "display_name": "Python 3.9.7 64-bit ('py39dev': conda)",
   "language": "python",
   "name": "python3"
  },
  "language_info": {
   "codemirror_mode": {
    "name": "ipython",
    "version": 3
   },
   "file_extension": ".py",
   "mimetype": "text/x-python",
   "name": "python",
   "nbconvert_exporter": "python",
   "pygments_lexer": "ipython3",
   "version": "3.9.13"
  },
  "orig_nbformat": 4,
  "vscode": {
   "interpreter": {
    "hash": "643d8850f45643577c70a479862d77c4402de531777c806406a288852538f786"
   }
  }
 },
 "nbformat": 4,
 "nbformat_minor": 2
}
