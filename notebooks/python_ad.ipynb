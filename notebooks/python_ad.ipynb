{
 "cells": [
  {
   "cell_type": "code",
   "execution_count": 18,
   "metadata": {},
   "outputs": [],
   "source": [
    "#https://github.com/Rufflewind/revad/blob/eb3978b3ccdfa8189f3ff59d1ecee71f51c33fd7/revad.py\n",
    "import math\n",
    "\n",
    "class Var:\n",
    "    def __init__(self, value):\n",
    "        self.value = value\n",
    "        self.children = []\n",
    "        # initialize to None, which means it’s not yet evaluated\n",
    "        self.grad_value = None\n",
    "\n",
    "    def __add__(self, other):\n",
    "        z = Var(self.value + other.value)\n",
    "        self.children.append((1.0, z))\n",
    "        other.children.append((1.0, z))\n",
    "        return z\n",
    "\n",
    "    def __mul__(self, other):\n",
    "        z = Var(self.value * other.value)\n",
    "        self.children.append((other.value, z))\n",
    "        other.children.append((self.value, z))\n",
    "        return z\n",
    "    \n",
    "    def grad(self):\n",
    "        # recurse only if the value is not yet cached\n",
    "        if self.grad_value is None:\n",
    "            # calculate derivative using chain rule\n",
    "            self.grad_value = sum(weight * var.grad()\n",
    "                                  for weight, var in self.children)\n",
    "        return self.grad_value\n",
    "# define the Vars for the example problem\n",
    "# initialize x = 0.5 and y = 4.2\n",
    "def sin(x):\n",
    "    z = Var(math.sin(x.value))\n",
    "    x.children.append((math.cos(x.value), z))\n",
    "    return z\n",
    "\n",
    "x = Var(0.5)\n",
    "y = Var(4.2)\n",
    "a= x*y"
   ]
  },
  {
   "cell_type": "code",
   "execution_count": 13,
   "metadata": {},
   "outputs": [
    {
     "name": "stdout",
     "output_type": "stream",
     "text": [
      "∂a/∂x = 4.2\n",
      "∂a/∂y = 0.5\n"
     ]
    }
   ],
   "source": [
    "a.grad_value = 1.0\n",
    "print(\"∂a/∂x = {}\".format(x.grad())) # ∂a/∂x = 4.2\n",
    "print(\"∂a/∂y = {}\".format(y.grad())) "
   ]
  },
  {
   "cell_type": "code",
   "execution_count": 15,
   "metadata": {},
   "outputs": [
    {
     "name": "stdout",
     "output_type": "stream",
     "text": [
      "2.1\n"
     ]
    }
   ],
   "source": [
    "print(a.value)"
   ]
  },
  {
   "cell_type": "code",
   "execution_count": 19,
   "metadata": {},
   "outputs": [],
   "source": [
    "x = Var(0.5)\n",
    "y = Var(4.2)\n",
    "z= x*y+sin(x)\n",
    "z.grad_value = 1.0\n",
    "\n",
    "assert abs(z.value - 2.579425538604203) <= 1e-15\n",
    "assert abs(x.grad() - (y.value + math.cos(x.value))) <= 1e-15\n",
    "assert abs(y.grad() - x.value) <= 1e-15"
   ]
  }
 ],
 "metadata": {
  "kernelspec": {
   "display_name": "Python 3.9.7 64-bit ('py39dev': conda)",
   "language": "python",
   "name": "python3"
  },
  "language_info": {
   "codemirror_mode": {
    "name": "ipython",
    "version": 3
   },
   "file_extension": ".py",
   "mimetype": "text/x-python",
   "name": "python",
   "nbconvert_exporter": "python",
   "pygments_lexer": "ipython3",
   "version": "3.9.13"
  },
  "orig_nbformat": 4,
  "vscode": {
   "interpreter": {
    "hash": "643d8850f45643577c70a479862d77c4402de531777c806406a288852538f786"
   }
  }
 },
 "nbformat": 4,
 "nbformat_minor": 2
}
